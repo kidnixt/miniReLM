{
 "cells": [
  {
   "cell_type": "code",
   "execution_count": 1,
   "metadata": {},
   "outputs": [
    {
     "name": "stderr",
     "output_type": "stream",
     "text": [
      "/home/yoni/.local/lib/python3.10/site-packages/tqdm/auto.py:21: TqdmWarning: IProgress not found. Please update jupyter and ipywidgets. See https://ipywidgets.readthedocs.io/en/stable/user_install.html\n",
      "  from .autonotebook import tqdm as notebook_tqdm\n",
      "If you want to use `BertLMHeadModel` as a standalone, add `is_decoder=True.`\n"
     ]
    }
   ],
   "source": [
    "# Load model directly\n",
    "import torch\n",
    "from transformers import AutoModelForCausalLM\n",
    "from transformers import AutoTokenizer\n",
    "\n",
    "torch.manual_seed(17)\n",
    "\n",
    "device = \"cuda\" if torch.cuda.is_available() else \"cpu\"\n",
    "\n",
    "tokenizer = AutoTokenizer.from_pretrained(\"prajjwal1/bert-small\", use_fast=True, \n",
    "                                          add_prefix_space=True)\n",
    "model = AutoModelForCausalLM.from_pretrained(\"prajjwal1/bert-small\", return_dict_in_generate=True, \n",
    "                                             pad_token_id=tokenizer.eos_token_id).to(device)"
   ]
  },
  {
   "cell_type": "code",
   "execution_count": 2,
   "metadata": {},
   "outputs": [
    {
     "data": {
      "text/plain": [
       "frozenset({The,\n",
       "           art,\n",
       "           engineering,\n",
       "           man,\n",
       "           maths,\n",
       "           medicine,\n",
       "           music,\n",
       "           science,\n",
       "           studied,\n",
       "           woman})"
      ]
     },
     "execution_count": 2,
     "metadata": {},
     "output_type": "execute_result"
    }
   ],
   "source": [
    "from automata_examples.man_woman_dfa import get_man_woman_automaton\n",
    "\n",
    "automaton = get_man_woman_automaton()\n",
    "automaton.alphabet.symbols\n"
   ]
  },
  {
   "cell_type": "code",
   "execution_count": 3,
   "metadata": {},
   "outputs": [],
   "source": [
    "from model_wrapper.bert_small_wrapper import BertSmallWrapper\n",
    "from llm_automaton.llm_automaton_builder import LLMAutomatonBuilder\n",
    "\n",
    "wrapper = BertSmallWrapper(model, tokenizer, device)\n",
    "builder = LLMAutomatonBuilder()"
   ]
  },
  {
   "cell_type": "code",
   "execution_count": 4,
   "metadata": {},
   "outputs": [
    {
     "name": "stdout",
     "output_type": "stream",
     "text": [
      "tensor([[ 101, 1996,  102]])\n",
      "man\n",
      "<class 'pythautomata.base_types.symbol.SymbolStr'>\n",
      "{'input_ids': tensor([[ 101, 2158,  102]]), 'token_type_ids': tensor([[0, 0, 0]]), 'attention_mask': tensor([[1, 1, 1]])}\n",
      "tensor([[ 101, 2158,  102]])\n"
     ]
    },
    {
     "ename": "IndexError",
     "evalue": "index 2158 is out of bounds for dimension 0 with size 3",
     "output_type": "error",
     "traceback": [
      "\u001b[0;31m---------------------------------------------------------------------------\u001b[0m",
      "\u001b[0;31mIndexError\u001b[0m                                Traceback (most recent call last)",
      "Cell \u001b[0;32mIn[4], line 3\u001b[0m\n\u001b[1;32m      1\u001b[0m \u001b[39mfrom\u001b[39;00m \u001b[39mpythautomata\u001b[39;00m\u001b[39m.\u001b[39;00m\u001b[39mmodel_exporters\u001b[39;00m\u001b[39m.\u001b[39;00m\u001b[39mdot_exporters\u001b[39;00m\u001b[39m.\u001b[39;00m\u001b[39mwfa_dot_exporting_strategy\u001b[39;00m \u001b[39mimport\u001b[39;00m WFADotExportingStrategy\n\u001b[0;32m----> 3\u001b[0m llm_automaton \u001b[39m=\u001b[39m builder\u001b[39m.\u001b[39;49mconstruct_llm_automaton(automaton, wrapper)\n\u001b[1;32m      5\u001b[0m dot_exporter \u001b[39m=\u001b[39m WFADotExportingStrategy()\n\u001b[1;32m      6\u001b[0m dot_exporter\u001b[39m.\u001b[39mexport(llm_automaton, \u001b[39m\"\u001b[39m\u001b[39mllm_automaton_BERT.dot\u001b[39m\u001b[39m\"\u001b[39m)\n",
      "File \u001b[0;32m~/Desktop/miniReLM/llm_automaton/llm_automaton_builder.py:34\u001b[0m, in \u001b[0;36mLLMAutomatonBuilder.construct_llm_automaton\u001b[0;34m(self, regex_automaton, llm)\u001b[0m\n\u001b[1;32m     32\u001b[0m \u001b[39mwhile\u001b[39;00m statesToVisit:\n\u001b[1;32m     33\u001b[0m     state \u001b[39m=\u001b[39m statesToVisit[\u001b[39m0\u001b[39m]\n\u001b[0;32m---> 34\u001b[0m     process_state_transitions(sequenceForStates, state, llm, pdfa_initial_state, pdfa_states, statesToVisit, visitedStates, regex_automaton\u001b[39m.\u001b[39;49malphabet\u001b[39m.\u001b[39;49msymbols)\n\u001b[1;32m     35\u001b[0m     statesToVisit\u001b[39m.\u001b[39mremove(state)\n\u001b[1;32m     36\u001b[0m     visitedStates\u001b[39m.\u001b[39madd(state)\n",
      "File \u001b[0;32m~/Desktop/miniReLM/llm_automaton/llm_automaton_builder.py:85\u001b[0m, in \u001b[0;36mprocess_state_transitions\u001b[0;34m(sequenceForStates, state, llm, pdfa_initial_state, pdfa_states, statesToVisit, visitedStates, alphabet)\u001b[0m\n\u001b[1;32m     81\u001b[0m     \u001b[39mreturn\u001b[39;00m pdfa_states\n\u001b[1;32m     83\u001b[0m string \u001b[39m=\u001b[39m sequence_to_string(sequence)\n\u001b[0;32m---> 85\u001b[0m probs \u001b[39m=\u001b[39m llm\u001b[39m.\u001b[39;49mget_probability(string, symbols)\n\u001b[1;32m     86\u001b[0m \u001b[39mfor\u001b[39;00m symbol \u001b[39min\u001b[39;00m symbols:\n\u001b[1;32m     87\u001b[0m     new_state \u001b[39m=\u001b[39m create_pdfa_state(alphabet, \u001b[39m0\u001b[39m, \u001b[39m0\u001b[39m)\n",
      "File \u001b[0;32m~/Desktop/miniReLM/model_wrapper/bert_small_wrapper.py:30\u001b[0m, in \u001b[0;36mBertSmallWrapper.get_probability\u001b[0;34m(self, sequence, symbols)\u001b[0m\n\u001b[1;32m     28\u001b[0m \u001b[39mprint\u001b[39m(word_tokens)\n\u001b[1;32m     29\u001b[0m \u001b[39mprint\u001b[39m(word_tokens\u001b[39m.\u001b[39minput_ids)\n\u001b[0;32m---> 30\u001b[0m word_probs \u001b[39m=\u001b[39m probs[:, word_tokens\u001b[39m.\u001b[39;49minput_ids[\u001b[39m0\u001b[39;49m]]\n\u001b[1;32m     31\u001b[0m total_word_probs \u001b[39m=\u001b[39m \u001b[39msum\u001b[39m(word_probs)\n\u001b[1;32m     32\u001b[0m total_word_probs \u001b[39m/\u001b[39m\u001b[39m=\u001b[39m \u001b[39mlen\u001b[39m(word_probs)\n",
      "\u001b[0;31mIndexError\u001b[0m: index 2158 is out of bounds for dimension 0 with size 3"
     ]
    }
   ],
   "source": [
    "from pythautomata.model_exporters.dot_exporters.wfa_dot_exporting_strategy import WFADotExportingStrategy\n",
    "\n",
    "llm_automaton = builder.construct_llm_automaton(automaton, wrapper)\n",
    "\n",
    "dot_exporter = WFADotExportingStrategy()\n",
    "dot_exporter.export(llm_automaton, \"llm_automaton_BERT.dot\")"
   ]
  },
  {
   "cell_type": "code",
   "execution_count": null,
   "metadata": {},
   "outputs": [
    {
     "ename": "NameError",
     "evalue": "name 'llm_automaton' is not defined",
     "output_type": "error",
     "traceback": [
      "\u001b[0;31m---------------------------------------------------------------------------\u001b[0m",
      "\u001b[0;31mNameError\u001b[0m                                 Traceback (most recent call last)",
      "Cell \u001b[0;32mIn[6], line 3\u001b[0m\n\u001b[1;32m      1\u001b[0m \u001b[39mfrom\u001b[39;00m \u001b[39mllm_automaton\u001b[39;00m\u001b[39m.\u001b[39;00m\u001b[39mllm_automaton_sampler\u001b[39;00m \u001b[39mimport\u001b[39;00m LLMAutomatonSampler\n\u001b[0;32m----> 3\u001b[0m sampler \u001b[39m=\u001b[39m LLMAutomatonSampler(llm_automaton)\n\u001b[1;32m      5\u001b[0m sampler\u001b[39m.\u001b[39msample(\u001b[39m10\u001b[39m)\n",
      "\u001b[0;31mNameError\u001b[0m: name 'llm_automaton' is not defined"
     ]
    }
   ],
   "source": [
    "from llm_automaton.llm_automaton_sampler import LLMAutomatonSampler\n",
    "\n",
    "sampler = LLMAutomatonSampler(llm_automaton)\n",
    "\n",
    "sampler.sample(10)"
   ]
  }
 ],
 "metadata": {
  "kernelspec": {
   "display_name": "py37",
   "language": "python",
   "name": "python3"
  },
  "language_info": {
   "codemirror_mode": {
    "name": "ipython",
    "version": 3
   },
   "file_extension": ".py",
   "mimetype": "text/x-python",
   "name": "python",
   "nbconvert_exporter": "python",
   "pygments_lexer": "ipython3",
   "version": "3.10.12"
  },
  "orig_nbformat": 4
 },
 "nbformat": 4,
 "nbformat_minor": 2
}
